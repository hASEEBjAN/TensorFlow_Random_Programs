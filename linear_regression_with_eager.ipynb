{
  "nbformat": 4,
  "nbformat_minor": 0,
  "metadata": {
    "colab": {
      "name": "linear regression with eager.ipynb",
      "provenance": [],
      "include_colab_link": true
    },
    "kernelspec": {
      "name": "python3",
      "display_name": "Python 3"
    }
  },
  "cells": [
    {
      "cell_type": "markdown",
      "metadata": {
        "id": "view-in-github",
        "colab_type": "text"
      },
      "source": [
        "<a href=\"https://colab.research.google.com/github/hASEEBjAN/TensorFlow_Random_Programs/blob/master/linear_regression_with_eager.ipynb\" target=\"_parent\"><img src=\"https://colab.research.google.com/assets/colab-badge.svg\" alt=\"Open In Colab\"/></a>"
      ]
    },
    {
      "cell_type": "code",
      "metadata": {
        "id": "N-NvHCT0cIf2",
        "colab_type": "code",
        "colab": {}
      },
      "source": [
        "import tensorflow as tf\n",
        "import numpy as np\n",
        "import matplotlib.pyplot as plt"
      ],
      "execution_count": null,
      "outputs": []
    },
    {
      "cell_type": "code",
      "metadata": {
        "id": "rIYamn-BcWlA",
        "colab_type": "code",
        "colab": {
          "base_uri": "https://localhost:8080/",
          "height": 136
        },
        "outputId": "e6cbbde1-7160-48ba-aa54-c81979673f79"
      },
      "source": [
        "tf.enable_eager_execution()\n",
        "tfe=tf.contrib.eager\n"
      ],
      "execution_count": null,
      "outputs": [
        {
          "output_type": "stream",
          "text": [
            "\n",
            "WARNING: The TensorFlow contrib module will not be included in TensorFlow 2.0.\n",
            "For more information, please see:\n",
            "  * https://github.com/tensorflow/community/blob/master/rfcs/20180907-contrib-sunset.md\n",
            "  * https://github.com/tensorflow/addons\n",
            "If you depend on functionality not listed there, please file an issue.\n",
            "\n"
          ],
          "name": "stdout"
        }
      ]
    },
    {
      "cell_type": "code",
      "metadata": {
        "id": "90Ywl9Pncr5Y",
        "colab_type": "code",
        "colab": {}
      },
      "source": [
        "train_X = [3.3, 4.4, 5.5, 6.71, 6.93, 4.168, 9.779, 6.182, 7.59, 2.167,\n",
        "           7.042, 10.791, 5.313, 7.997, 5.654, 9.27, 3.1]\n",
        "train_Y = [1.7, 2.76, 2.09, 3.19, 1.694, 1.573, 3.366, 2.596, 2.53, 1.221,\n",
        "           2.827, 3.465, 1.65, 2.904, 2.42, 2.94, 1.3]\n",
        "n_samples = len(train_X)"
      ],
      "execution_count": null,
      "outputs": []
    },
    {
      "cell_type": "code",
      "metadata": {
        "id": "A316LkUscxcC",
        "colab_type": "code",
        "colab": {}
      },
      "source": [
        "learning_rate=0.001\n",
        "display_step=50\n",
        "num_steps=1000"
      ],
      "execution_count": null,
      "outputs": []
    },
    {
      "cell_type": "code",
      "metadata": {
        "id": "czFfgPdhc8iC",
        "colab_type": "code",
        "colab": {}
      },
      "source": [
        "w=tfe.Variable(np.random.randn())\n",
        "b=tfe.Variable(np.random.randn())\n"
      ],
      "execution_count": null,
      "outputs": []
    },
    {
      "cell_type": "code",
      "metadata": {
        "id": "_L9J5vm_dL97",
        "colab_type": "code",
        "colab": {}
      },
      "source": [
        "def linear_regression(inputs):\n",
        "  return inputs*w+b\n",
        "def mean_square_fn(model_fn,inputs,labels):\n",
        "  return tf.reduce_sum(tf.pow(model_fn(inputs) - labels,2))/(2*n_samples)"
      ],
      "execution_count": null,
      "outputs": []
    },
    {
      "cell_type": "code",
      "metadata": {
        "id": "4ci5QanZd27Y",
        "colab_type": "code",
        "colab": {}
      },
      "source": [
        "optimizer=tf.train.GradientDescentOptimizer(learning_rate=learning_rate)\n",
        "gred=tfe.implicit_gradients(mean_square_fn)\n"
      ],
      "execution_count": null,
      "outputs": []
    },
    {
      "cell_type": "code",
      "metadata": {
        "id": "CdL3HrFgeV8B",
        "colab_type": "code",
        "colab": {
          "base_uri": "https://localhost:8080/",
          "height": 34
        },
        "outputId": "ee50b58f-7da0-4bbd-c9ac-0af3f43d5d76"
      },
      "source": [
        "print('initial cost={:.9f}'.format(mean_square_fn(linear_regression,train_X,train_Y)),\"W=\",w.numpy(),\"b=\",b.numpy())"
      ],
      "execution_count": null,
      "outputs": [
        {
          "output_type": "stream",
          "text": [
            "initial cost=1.942149043 W= 0.17486341 b= -0.64604163\n"
          ],
          "name": "stdout"
        }
      ]
    },
    {
      "cell_type": "code",
      "metadata": {
        "id": "zIUqKyjWfsCU",
        "colab_type": "code",
        "colab": {
          "base_uri": "https://localhost:8080/",
          "height": 704
        },
        "outputId": "ee7c5b49-8322-4b73-bf3b-dcdf47638f2a"
      },
      "source": [
        "for step in range(num_steps):\n",
        "  optimizer.apply_gradients(gred(linear_regression,train_X,train_Y))\n",
        "  if (step+1) % display_step == 0 or step==0:\n",
        "    print(\"epoch\",'%04d' % (step+1), \"cost= \",'{:.09f}'.format(mean_square_fn(linear_regression,train_X,train_Y)),\"W=\",w.numpy(),\"b=\",b.numpy())\n",
        "    \n",
        "plt.plot(train_X,train_Y,'ro',label='original_data')\n",
        "plt.plot(train_X,np.array(w*train_X+b),label='fitted_data')\n",
        "plt.legend()\n",
        "plt.show()"
      ],
      "execution_count": null,
      "outputs": [
        {
          "output_type": "stream",
          "text": [
            "epoch 0001 cost=  0.172852054 W= 0.42722565 b= -0.4460579\n",
            "epoch 0050 cost=  0.171717674 W= 0.42618436 b= -0.4386753\n",
            "epoch 0100 cost=  0.170573995 W= 0.4251281 b= -0.4311872\n",
            "epoch 0150 cost=  0.169444129 W= 0.4240783 b= -0.42374438\n",
            "epoch 0200 cost=  0.168327883 W= 0.42303482 b= -0.41634664\n",
            "epoch 0250 cost=  0.167225063 W= 0.42199767 b= -0.40899366\n",
            "epoch 0300 cost=  0.166135594 W= 0.42096677 b= -0.40168515\n",
            "epoch 0350 cost=  0.165059283 W= 0.4199421 b= -0.39442083\n",
            "epoch 0400 cost=  0.163995877 W= 0.41892365 b= -0.3872005\n",
            "epoch 0450 cost=  0.162945360 W= 0.41791138 b= -0.38002384\n",
            "epoch 0500 cost=  0.161907554 W= 0.41690522 b= -0.3728906\n",
            "epoch 0550 cost=  0.160882205 W= 0.41590518 b= -0.36580056\n",
            "epoch 0600 cost=  0.159869283 W= 0.41491115 b= -0.35875338\n",
            "epoch 0650 cost=  0.158868551 W= 0.41392314 b= -0.35174888\n",
            "epoch 0700 cost=  0.157879889 W= 0.41294113 b= -0.34478676\n",
            "epoch 0750 cost=  0.156903163 W= 0.41196504 b= -0.33786675\n",
            "epoch 0800 cost=  0.155938223 W= 0.41099486 b= -0.33098862\n",
            "epoch 0850 cost=  0.154984921 W= 0.41003054 b= -0.32415214\n",
            "epoch 0900 cost=  0.154043108 W= 0.40907207 b= -0.317357\n",
            "epoch 0950 cost=  0.153112695 W= 0.40811938 b= -0.310603\n",
            "epoch 1000 cost=  0.152193487 W= 0.40717247 b= -0.30388987\n"
          ],
          "name": "stdout"
        },
        {
          "output_type": "display_data",
          "data": {
            "image/png": "[encoded data removed]",
            "text/plain": [
              "<Figure size 576x396 with 1 Axes>"
            ]
          },
          "metadata": {
            "tags": []
          }
        }
      ]
    }
  ]
}